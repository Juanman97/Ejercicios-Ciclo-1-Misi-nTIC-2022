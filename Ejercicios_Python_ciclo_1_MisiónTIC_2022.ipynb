{
  "nbformat": 4,
  "nbformat_minor": 0,
  "metadata": {
    "colab": {
      "name": "Ejercicios Python ciclo 1 MisiónTIC 2022",
      "provenance": [],
      "collapsed_sections": [],
      "include_colab_link": true
    },
    "kernelspec": {
      "display_name": "Python 3",
      "name": "python3"
    }
  },
  "cells": [
    {
      "cell_type": "markdown",
      "metadata": {
        "id": "view-in-github",
        "colab_type": "text"
      },
      "source": [
        "<a href=\"https://colab.research.google.com/github/Juanman97/Ejercicios-Ciclo-1-Misi-nTIC-2022/blob/main/Ejercicios_Python_ciclo_1_Misi%C3%B3nTIC_2022.ipynb\" target=\"_parent\"><img src=\"https://colab.research.google.com/assets/colab-badge.svg\" alt=\"Open In Colab\"/></a>"
      ]
    },
    {
      "cell_type": "markdown",
      "metadata": {
        "id": "e-_PlbCO_xTg"
      },
      "source": [
        "# **Ejercicio 1**\n",
        "\n",
        "Se tiene una lista de números. Luego se tienen dos listas, l y r, en donde su elemento en el mismo índice forman los parámetros para realizar un split en la lista de números (split 1 = l[0]:r[0]).\n",
        "\n",
        "El programa realiza todos los splits, los ordena en orden ascendente y posteriormente, con cada subcadena, se verifica si la diferencia entre cada par de numeros consecutivos es igual, imprimiento una lista con True si es así o False si no lo es para cada caso."
      ]
    },
    {
      "cell_type": "code",
      "metadata": {
        "id": "_IKa2vVl4c5S"
      },
      "source": [
        "nums = [-12,-9,-3,-12,-6,15,20,-25,-20,-15,-10]\n",
        "l = [0,1,6,4,8,7]\n",
        "r = [4,4,9,7,9,10]\n",
        "resultado=[]\n",
        "for i in range(len(r)):\n",
        "  sub=nums[l[i]:r[i]+1]\n",
        "  sub.sort()\n",
        "  resta=sub[1]-sub[0]\n",
        "  estado=True\n",
        "  for j in range(len(sub)):\n",
        "    if j<len(sub)-2:\n",
        "      if sub[j+1]-sub[j]!=resta:\n",
        "        estado=False\n",
        "        break\n",
        "    else:\n",
        "      if sub[-1]-sub[-2]!=resta:\n",
        "        estado=False\n",
        "  resultado.append(estado)\n",
        "print(resultado)"
      ],
      "execution_count": null,
      "outputs": []
    },
    {
      "cell_type": "markdown",
      "metadata": {
        "id": "kBPGCCejxZ2B"
      },
      "source": [
        "# **Ejercicio 2**\n",
        "\n",
        "Dada una cadena, el programa la divide en el mínimo número de subcadenas posible tal que en cada subcadena no se repita ninguna letra e imprime una lista con la longitud de cada subcadena formada."
      ]
    },
    {
      "cell_type": "code",
      "metadata": {
        "id": "MDGGWoK8qHI5"
      },
      "source": [
        "def verif_exterior(cadena,sobra):\n",
        "  verificados=[]\n",
        "  resultado=[]\n",
        "  for i in cadena:\n",
        "    estado=True\n",
        "    if i not in verificados:\n",
        "      verificados.append(i)\n",
        "      if i in sobra:\n",
        "        estado=False\n",
        "        resultado.append(estado)\n",
        "        resultado.append(sobra.rfind(i))\n",
        "        return resultado\n",
        "  resultado.append(estado)\n",
        "  resultado.append(-1)\n",
        "  return resultado\n",
        "\n",
        "\n",
        "def funcion(s):\n",
        "\n",
        "  final=[]\n",
        "  k=0\n",
        "  letra_final=s[k]\n",
        "  ultimo=-1\n",
        "\n",
        "  while k<len(s):\n",
        "    if s.rfind(letra_final)!=-1:\n",
        "      ultimo=s.rfind(letra_final)\n",
        "      break\n",
        "    else:\n",
        "      k+=1\n",
        "      letra_final=s[k]\n",
        "\n",
        "  if ultimo==-1:\n",
        "    return[len(s)]\n",
        "\n",
        "  fin=False\n",
        "  while fin==False:\n",
        "    cadena=s[:ultimo+1]\n",
        "    sobra=s[ultimo+1:]\n",
        "    resultado=verif_exterior(cadena,sobra)\n",
        "    if resultado[0]==True:\n",
        "      final.append(len(cadena))\n",
        "      s=sobra\n",
        "      if len(s)>0:\n",
        "        k=0\n",
        "        letra_final=s[k]\n",
        "        ultimo=-1\n",
        "\n",
        "        while k<len(s):\n",
        "          if s.rfind(letra_final)!=-1:\n",
        "            ultimo=s.rfind(letra_final)\n",
        "            break\n",
        "          else:\n",
        "            k+=1\n",
        "            letra_final=s[k]\n",
        "        if ultimo==-1:\n",
        "          final.append(len(s))\n",
        "          return final\n",
        "      else:\n",
        "        fin=True\n",
        "    else:\n",
        "      ultimo=resultado[1]+len(cadena)\n",
        "\n",
        "  return final\n",
        "\n",
        "s = \"ababcbacadefegdehijhklij\"\n",
        "print(funcion(s))"
      ],
      "execution_count": null,
      "outputs": []
    },
    {
      "cell_type": "markdown",
      "metadata": {
        "id": "fsQNhWvO7mcO"
      },
      "source": [
        "# **Ejercicio 3**\n",
        "\n",
        "Dada una lista de números de tamaño par, el programa los agrupará en parejas, tal que al sumarlas, el resultado más alto entre las parejas sea el menor máximo resultado posible."
      ]
    },
    {
      "cell_type": "code",
      "metadata": {
        "id": "-QET4nhP32AB"
      },
      "source": [
        "nums = [1,4,5,3,2,4]\n",
        "nums.sort()\n",
        "suma_parejas=[]\n",
        "L=int(len(nums))\n",
        "a=-1\n",
        "for i in range(int(L/2)):\n",
        "  suma=nums[i]+nums[a]\n",
        "  a-=1\n",
        "  suma_parejas.append(suma)\n",
        "suma_parejas.sort()\n",
        "print(suma_parejas[-1])"
      ],
      "execution_count": null,
      "outputs": []
    },
    {
      "cell_type": "markdown",
      "metadata": {
        "id": "EsRExzaNzxIP"
      },
      "source": [
        "# **Ejercicio 4**\n",
        "\n",
        "Se crea una lista p de de tamaño m con los números de 1 hasta m. Luego se ingresa una lista de queries en donde cada elemento dice qué numero se debe buscar en la lista p.\n",
        "\n",
        "Luego, al ubicar dicho número en la lista p, se agrega su posición a la lista resultado y se mueve el elemento en p a la posición 0 (por ejemplo, en queries aparece el 7, así que se busca el 7 en la lista p, se agrega su posición (6) a la lista resultado y se mueve el número 7 en la lista p a la posición 0, para repetir el procedimiento con el siguiente elemento de la lista queries). Funalmente el programa imprime la lista p resultante y la lista resultado con las posiciones obtenidas en el proceso."
      ]
    },
    {
      "cell_type": "code",
      "metadata": {
        "id": "uxwACFYMxcmn"
      },
      "source": [
        "queries=[7,5,5,8,3]\n",
        "m = 8\n",
        "p=list(range(1,m+1))\n",
        "result=[]\n",
        "for i in queries:\n",
        "  for j in range(len(p)):\n",
        "    if i==p[j]:\n",
        "      result.append(j)\n",
        "      a=p[j]\n",
        "      p.pop(j)\n",
        "      p.insert(0,a)\n",
        "print(p)\n",
        "print(result)"
      ],
      "execution_count": null,
      "outputs": []
    },
    {
      "cell_type": "markdown",
      "metadata": {
        "id": "yIBlQ1-MxU_w"
      },
      "source": [
        "# **Ejercicio 5**\n",
        "\n",
        "Se ingresa una lista que contiene varias listas de números. El programa debe verificar qué elementos comunes se encuentran en todas las listas e imprimirlos en una nueva lista."
      ]
    },
    {
      "cell_type": "code",
      "metadata": {
        "id": "hwLq_z1KqNgD"
      },
      "source": [
        "arrays=[[2,3,6,8],[1,2,3,5,6,7,10],[2,3,4,6,9]]\n",
        "verif=arrays[0]\n",
        "new=[]\n",
        "for i in arrays:\n",
        "  for j in verif:\n",
        "    if j in i:\n",
        "      new.append(j)\n",
        "  verif=new.copy()\n",
        "  new=[]\n",
        "print(verif)"
      ],
      "execution_count": null,
      "outputs": []
    },
    {
      "cell_type": "markdown",
      "metadata": {
        "id": "drCaQcojyUOu"
      },
      "source": [
        "# **Ejercicio 6**\n",
        "\n",
        "Se ingresa un diccionario en forma de string formateado con \" en las claves, ': ' entre clave y valor, y ', ' entre pares clave:valor; en este diccionario, la clave es una letra y el valor es un entero que representa su puntuación. Luego se ingresa una cadena de letras separadas por '-'.\n",
        "\n",
        "El programa debe verificar cuáles de las letras ingresadas separadas por guión se encuentran en el diccionario, sumar las puntuaciones de las que sí estén, imprimir la puntuación final y luego un string con las letras acertadas en el mismo orden en que se ingresaron y separadas por coma."
      ]
    },
    {
      "cell_type": "code",
      "metadata": {
        "id": "N4h2edOprEHN"
      },
      "source": [
        "entrada=str(input())\n",
        "entrada2=input()\n",
        "cancion=entrada[1:-1]\n",
        "cancion_lista=cancion.replace(', ',' ')\n",
        "cancion_lista=cancion_lista.replace(': ',':')\n",
        "cancion_lista=cancion_lista.replace('\"','')\n",
        "\n",
        "dic_lista=cancion_lista.split(' ')\n",
        "lista_lista=[]\n",
        "for i in dic_lista:\n",
        "  a=i.split(':')\n",
        "  a[1]=int(a[1])\n",
        "  lista_lista.append(a)\n",
        "\n",
        "dicc=dict(lista_lista)\n",
        "entrada2=entrada2.split('-')\n",
        "puntaje=0\n",
        "correctas=[]\n",
        "for i in entrada2:\n",
        "  if i in dicc:\n",
        "    puntaje+=dicc[i]\n",
        "    correctas.append(i)\n",
        "correctas=','.join(correctas)\n",
        "print(puntaje)\n",
        "print(correctas)"
      ],
      "execution_count": null,
      "outputs": []
    },
    {
      "cell_type": "markdown",
      "metadata": {
        "id": "rdtWJlr_8gkx"
      },
      "source": [
        "# **Ejercicio 7**\n",
        "\n",
        "Dada una cadena de letras y un entero k, el programa divide dicha cadena en subcadenas de tamaño k, imprimiéndolas y en caso de haber una letra repetida en una misma subcadena, sólo la imprime una vez."
      ]
    },
    {
      "cell_type": "code",
      "metadata": {
        "id": "shhzibj_3jCv"
      },
      "source": [
        "s ='ajghrbsjtbenenrhtbfn'\n",
        "k = 5\n",
        "s=s.upper()\n",
        "if k==1:\n",
        "  for i in s:\n",
        "    print(i)\n",
        "else:\n",
        "  lista_dividida=[]\n",
        "  i=0\n",
        "  while i<len(s)-1:\n",
        "    lista_dividida.append(s[i:i+k])\n",
        "    i+=k\n",
        "\n",
        "  for i in lista_dividida:\n",
        "    dicc={}\n",
        "    for j in range(len(i)):\n",
        "      if i[j] not in dicc:\n",
        "        dicc[i[j]]=j\n",
        "    claves=dicc.keys()\n",
        "    print(''.join(claves))"
      ],
      "execution_count": null,
      "outputs": []
    },
    {
      "cell_type": "markdown",
      "metadata": {
        "id": "PkJxft4m3ds3"
      },
      "source": [
        "# **Ejercicio 8**\n",
        "\n",
        "Al ingresar nombres y apellidos, el programa lo imprime con mayúscula inicial en su nombre y apellido."
      ]
    },
    {
      "cell_type": "code",
      "metadata": {
        "id": "muM1TIC51o76"
      },
      "source": [
        "s='juan manuel'\n",
        "a=s.split(' ')\n",
        "lista=[]\n",
        "for i in a:\n",
        "  lista.append(i.capitalize())\n",
        "final=' '.join(lista)\n",
        "print(final)"
      ],
      "execution_count": null,
      "outputs": []
    },
    {
      "cell_type": "markdown",
      "metadata": {
        "id": "L1c7q2yTp7Jc"
      },
      "source": [
        "# **Ejercicio 9**\n",
        "\n",
        "Una caja o box es un caracter representado por 1 ó 0, indicando si hay o no una bola adentro, respectivamente.\n",
        "\n",
        "Dado un conjunto de boxes, el programa determina cuántos pasos necesita cada caja para tener todas las bolas del conjunto dentro de ella, teniendo en cuenta que una bola sólo se puede mover a la caja que tenga a su lado en cada paso. Finalmente se imprime una lista en donde cada posición tiene el número de pasos que requiere la caja en esa misma posición, para tener todas las bolas dentro de ella."
      ]
    },
    {
      "cell_type": "code",
      "metadata": {
        "id": "ScRbAa5Mkz_Y"
      },
      "source": [
        "boxes=input()\n",
        "lista_boxes=list(boxes)\n",
        "lista_num=list(map(int,lista_boxes))\n",
        "suma=0\n",
        "lista_pasos=[]\n",
        "for i in range(len(lista_num)):\n",
        "  pasos=0\n",
        "  if i>0: #cajas a la izquierda\n",
        "    for j in range(0,i):\n",
        "      if lista_num[j]==1:\n",
        "        pasos+=(i-j)\n",
        "  if i<len(lista_num): #cajas a la derecha\n",
        "    for k in range(i+1,len(lista_num)):\n",
        "      if lista_num[k]==1:\n",
        "        pasos+=(k-i)\n",
        "  lista_pasos.append(pasos)\n",
        "\n",
        "print(lista_pasos)"
      ],
      "execution_count": null,
      "outputs": []
    },
    {
      "cell_type": "markdown",
      "metadata": {
        "id": "V0dHq3Yujhx3"
      },
      "source": [
        "# **Ejercicio 10**\n",
        "\n",
        "Se crea una matriz y se tienen dos funciones, una que modifica una subsección de la matriz con el valor ingresado y otra que obtiene el valor en la posición ingresada.\n",
        "\n",
        "Para esto se ingresa una lista de comandos (SubrectangleQueries para crear la matriz, getValue para obtener el valor en determinada posición y updateSubrectangle para modificar el valor de una subsección de la matriz con el valor ingresado.\n",
        "\n",
        "Luego se ingresan los valores para ejecutar dichos comandos, cada elemento de la lista contiene los valores requeridos para ejecutar el comando en la misma posición de la lista de comandos.\n",
        "\n",
        "Para SubrectangleQueries se ingresa la matriz, para getValue se \n",
        "modificar rectangulo según las instrucciones que se ingresen - versión completa poniendo las funciones manualmente.\n",
        "\n",
        "Finalmente se imprime el resultado final de la matriz luego de todos los cambios, y una lista con los resultados del getValue, y en caso de ser otro comando, un None."
      ]
    },
    {
      "cell_type": "code",
      "metadata": {
        "id": "B502o0UEbQuA"
      },
      "source": [
        "def getValue(rectangulo , fila , columna):\n",
        "  return rectangulo[fila][columna]\n",
        "\n",
        "def updateSubrectangle(rectangulo , fila1 , columna1 , fila2 , columna2 , nuevo_valor):\n",
        "  for i in range(len(rectangulo)):\n",
        "    if i>=fila1 and i<=fila2:\n",
        "      for j in range(len(rectangulo[0])):\n",
        "        if j>=columna1 and j<=columna2:\n",
        "          rectangulo[i][j]=nuevo_valor\n",
        "  return rectangulo\n",
        "\n",
        "entrada_comandos=[\"SubrectangleQueries\",\"getValue\",\"updateSubrectangle\",\"getValue\",\"getValue\",\"updateSubrectangle\",\"getValue\"]\n",
        "entrada_valores=[[[[1,1,1],[2,2,2],[3,3,3]]],[0,0],[0,0,2,2,100],[0,0],[2,2],[1,1,2,2,20],[2,2]]\n",
        "rectangulo=entrada_valores[0][0]\n",
        "salidaGetValue = []\n",
        "\n",
        "for i in range(len(entrada_comandos)):\n",
        "  if entrada_comandos[i]==\"getValue\":\n",
        "    a=getValue(rectangulo,entrada_valores[i][0], entrada_valores[i][1])\n",
        "    salidaGetValue.append(a)\n",
        "  elif entrada_comandos[i]==\"updateSubrectangle\":\n",
        "    rectangulo = updateSubrectangle(rectangulo,entrada_valores[i][0],entrada_valores[i][1],entrada_valores[i][2],entrada_valores[i][3],entrada_valores[i][4] )\n",
        "    salidaGetValue.append(None)\n",
        "  else:\n",
        "    salidaGetValue.append(None)\n",
        "\n",
        "print(salidaGetValue)\n",
        "print(rectangulo)"
      ],
      "execution_count": null,
      "outputs": []
    },
    {
      "cell_type": "markdown",
      "metadata": {
        "id": "9nV4qaQ9Pq5q"
      },
      "source": [
        "# **Ejercicio 11**\n",
        "\n",
        "Se ingresa una cadena de letras (mayúsculas o minúsculas) separadas por coma, el programa determina cuántas letras repetidas seguidas (mayúsuclas o minúsculas) hay, e imprime una sola repetición de cada letra repetida seguida separadas por comas, y debajo imprime el número de repeticiones seguidas de cada letra."
      ]
    },
    {
      "cell_type": "code",
      "metadata": {
        "id": "Dc4TExsy_nQG"
      },
      "source": [
        "entrada=list(input().split(','))\n",
        "entrada_string=''.join(entrada)\n",
        "mayusc=entrada_string.upper()\n",
        "letra=mayusc[0]\n",
        "cont=1\n",
        "lista_num=[]\n",
        "lista_letras=[]\n",
        "for i in range(len(mayusc)):\n",
        "  if i<(len(mayusc)-1):\n",
        "    if mayusc[i+1]==letra:\n",
        "      cont+=1\n",
        "    else:\n",
        "      lista_num.append(str(cont))\n",
        "      lista_letras.append(letra)\n",
        "      cont=1\n",
        "      letra=mayusc[i+1]\n",
        "  else:\n",
        "    if mayusc[i]!=mayusc[i-1]:\n",
        "      cont=1\n",
        "      letra=mayusc[i]\n",
        "    lista_num.append(str(cont))\n",
        "    lista_letras.append(letra)\n",
        "letras_final=' '.join(lista_letras)\n",
        "num_final=' '.join(lista_num)\n",
        "print(letras_final)\n",
        "print(num_final)"
      ],
      "execution_count": null,
      "outputs": []
    },
    {
      "cell_type": "markdown",
      "metadata": {
        "id": "9f4y8RsfBrQ-"
      },
      "source": [
        "# **Ejercicio 12**\n",
        "\n",
        "Dada una cadena, el programa imprime True o False si dicha cadena contiene o no, respectivamente, todas las letras del abecedario inglés."
      ]
    },
    {
      "cell_type": "code",
      "metadata": {
        "id": "pvzOBeAo2_T-"
      },
      "source": [
        "sentence = \"leetcode\"\n",
        "resultado=True\n",
        "for i in range(97,123):\n",
        "  if sentence.find(chr(i))==-1:\n",
        "    resultado=False\n",
        "print(resultado)"
      ],
      "execution_count": null,
      "outputs": []
    },
    {
      "cell_type": "markdown",
      "metadata": {
        "id": "LMnksHeK11Lf"
      },
      "source": [
        "# **Ejercicio 13**\n",
        "\n",
        "Dada una lisa de números, cada par de datos representan el multiplicador y el número (es decir, [1,2,3,4] contiene el par 1,2 que indica que el número 2 se repite 1 vez, y el par 3,4 que indica que el número 4 se repite 3 veces), el programa imprime la lista resultante luego de resolver dichos pares de multiplicador,número."
      ]
    },
    {
      "cell_type": "code",
      "metadata": {
        "id": "V4ro0sCJyMkf"
      },
      "source": [
        "nums = [1,1,2,3]\n",
        "new_nums=[]\n",
        "for i in range(len(nums)):\n",
        "  if i%2==0:\n",
        "    multiplicador=nums[i]\n",
        "  else:\n",
        "    for j in range(multiplicador):\n",
        "      new_nums.append(nums[i])\n",
        "print(new_nums)"
      ],
      "execution_count": null,
      "outputs": []
    },
    {
      "cell_type": "markdown",
      "metadata": {
        "id": "zv45fDAkzets"
      },
      "source": [
        "# **Ejercicio 14**\n",
        "\n",
        "Dado un string y una lista con los índices de cada caracter del string, el programa ordena la cadena basado en el orden de la lista de índices."
      ]
    },
    {
      "cell_type": "code",
      "metadata": {
        "id": "TtWYjlrBRRZK"
      },
      "source": [
        "s = \"codeleet\"\n",
        "indices = [4,5,6,7,0,2,1,3]\n",
        "unidos=[]\n",
        "for i in range(len(indices)):\n",
        "  add=(indices[i],s[i])\n",
        "  unidos.append(add)\n",
        "unidos.sort()\n",
        "s_orden=''\n",
        "for i in range(len(unidos)):\n",
        "  s_orden+=unidos[i][1]\n",
        "print(s_orden)"
      ],
      "execution_count": null,
      "outputs": []
    },
    {
      "cell_type": "markdown",
      "metadata": {
        "id": "Lj3GIErYQhhS"
      },
      "source": [
        "# **Ejercicio 15**\n",
        "\n",
        "Este programa imprime la diferencia entre el producto y la suma de cada uno de los dígitos de un entero."
      ]
    },
    {
      "cell_type": "code",
      "metadata": {
        "id": "3HiPbqKwP6ZL"
      },
      "source": [
        "n=4421\n",
        "n_string=str(n)\n",
        "suma=0\n",
        "producto=1\n",
        "for i in n_string:\n",
        "  suma+=int(i)\n",
        "  producto*=int(i)\n",
        "resta=producto-suma\n",
        "print(resta)"
      ],
      "execution_count": null,
      "outputs": []
    },
    {
      "cell_type": "markdown",
      "metadata": {
        "id": "X716xNXvPcHy"
      },
      "source": [
        "# **Ejercicio 16**\n",
        "\n",
        "El programa recorre una lista de números y en cada posición determina cuántos números menores que él hay en las demás  posiciones del vector, para finalmente armar e imprimir un nuevo vector con estos valores."
      ]
    },
    {
      "cell_type": "code",
      "metadata": {
        "id": "CiGiTvaOKC7r"
      },
      "source": [
        "nums = [8,1,2,2,3]\n",
        "new_array=[]\n",
        "for i in range(len(nums)):\n",
        "  contador=0\n",
        "  for j in range(len(nums)):\n",
        "    if nums[j]<nums[i]:\n",
        "      contador+=1\n",
        "  new_array.append(contador)\n",
        "print(new_array)"
      ],
      "execution_count": null,
      "outputs": []
    },
    {
      "cell_type": "markdown",
      "metadata": {
        "id": "kqHf3qUPH3zZ"
      },
      "source": [
        "# **Ejercicio 17**\n",
        "\n",
        "El Alfabeto Rangoli es una forma de arte popular indio basado en la creación de patrones. Se ingresa su tamaño, el cual indica cuándas letras del alfabeto tendrá, y se formarán en rombo separadas por guiones y en los extremos igualmente rellenado con guiones. El programa recibe el tamaño del alfabeto y lo crea."
      ]
    },
    {
      "cell_type": "code",
      "metadata": {
        "id": "SeIiVr8Q9Px-"
      },
      "source": [
        "n=int(input())\n",
        "m=n+97\n",
        "lista=[]\n",
        "espacio=((n-1)*4)+1\n",
        "for i in range(m-1,96,-1):\n",
        "  lista.append(chr(i))\n",
        "  cadena='-'.join(lista)\n",
        "  if i!=(m-1):\n",
        "    lista_derecha=lista[:len(lista)-1]\n",
        "    lista_derecha.reverse()\n",
        "    cadena_derecha='-'.join(lista_derecha)\n",
        "    imprimir=cadena+'-'+cadena_derecha\n",
        "    print(imprimir.center(espacio,'-'))\n",
        "  else:\n",
        "    print(cadena.center(espacio,'-'))\n",
        "\n",
        "\n",
        "cont=0\n",
        "while cont<n-1:\n",
        "  lista_der=[]\n",
        "  lista_izq=[]\n",
        "\n",
        "  for i in range(98+cont,m): #primera línea derecha solamente\n",
        "    lista_der.append(chr(i))\n",
        "  cadena_derecha2='-'.join(lista_der)\n",
        "  for j in range(m-1,98+cont,-1):\n",
        "    lista_izq.append(chr(j))\n",
        "  cadena_izq2='-'.join(lista_izq)\n",
        "  imprimir2=cadena_izq2+'-'+cadena_derecha2\n",
        "  if cont==n-2:\n",
        "    print(cadena_derecha2.center(espacio,'-'))\n",
        "  else:\n",
        "    print(imprimir2.center(espacio,'-'))\n",
        "  cont+=1"
      ],
      "execution_count": null,
      "outputs": []
    },
    {
      "cell_type": "markdown",
      "metadata": {
        "id": "P7Cjt0bW_-c9"
      },
      "source": [
        "# **Ejercicio 18**\n",
        "\n",
        "Un par es llamado bueno si los dos elementos son iguales y se encuentran en diferente posición dentro de un array. El programa determina cuántos pares buenos hay en una lista dada."
      ]
    },
    {
      "cell_type": "code",
      "metadata": {
        "id": "Yy5bx6nn-Bcy"
      },
      "source": [
        "nums=[1,1,1,1]\n",
        "contador=0\n",
        "for i in range(len(nums)):\n",
        "  resto=range(i+1,len(nums))\n",
        "  for j in resto:\n",
        "    if nums[i]==nums[j]:\n",
        "      contador+=1\n",
        "print(contador)"
      ],
      "execution_count": null,
      "outputs": []
    },
    {
      "cell_type": "markdown",
      "metadata": {
        "id": "JFis7z0U9MBH"
      },
      "source": [
        "# **Ejercicio 19**\n",
        "\n",
        "El programa cuenta cuántas veces aparece una subcadena en una cadena."
      ]
    },
    {
      "cell_type": "code",
      "metadata": {
        "id": "2bzVWIl43qx2"
      },
      "source": [
        "string='abcdcdc'\n",
        "sub_string='cdc'\n",
        "contador=0\n",
        "a=0\n",
        "inicio=0\n",
        "fin=len(string)\n",
        "while a!=-1:\n",
        "  a=string.find(sub_string,inicio,fin)\n",
        "  if a!=-1:\n",
        "    contador+=1\n",
        "    inicio+=a+1\n",
        "print(contador)"
      ],
      "execution_count": null,
      "outputs": []
    },
    {
      "cell_type": "markdown",
      "metadata": {
        "id": "z-3MViVYi5CS"
      },
      "source": [
        "# **Ejercicio 20**\n",
        "\n",
        "Forma de cambiar una cadena a enteros dentro de una lista."
      ]
    },
    {
      "cell_type": "code",
      "metadata": {
        "id": "A02JccGldWbM"
      },
      "source": [
        "listas=['insert','10','2']\n",
        "lista2=list(map(int, listas[1:]))\n",
        "print(lista2)"
      ],
      "execution_count": null,
      "outputs": []
    },
    {
      "cell_type": "markdown",
      "metadata": {
        "id": "-VzP0d303mNA"
      },
      "source": [
        "# **Ejercicio 21**\n",
        "\n",
        "Se crea un programa para aplicarle los comandos que se ingresen, a una lista vacía. Para esto, se debe ingresar el número de comandos a ejecutar, y posteriormente se ingresan uno a uno el nombre de los comandos insert(elemento, posición), append(elemento), print, sort, reverse, pop o remove(elemento) con sus respectivos parámetros separados por un espacio en caso de necesitarse. El programa realizará cada una de estas acciones en el orden en que se ingresen."
      ]
    },
    {
      "cell_type": "code",
      "metadata": {
        "id": "cJWPws5Ix9Zo"
      },
      "source": [
        "N = int(input())\n",
        "lista=[]\n",
        "comando=[]\n",
        "for i in range(N):\n",
        "  entrada=list(input().split())\n",
        "  comando.append(entrada)\n",
        "\n",
        "for i in comando:\n",
        "  if 'insert' in i:\n",
        "    a=int(i[1])\n",
        "    c=int(i[2])\n",
        "    lista.insert(a,c)\n",
        "    #a=list(map(int, i[1:]))\n",
        "    #lista.insert(a[1],a[0])\n",
        "  elif 'append' in i:\n",
        "    ap=int(i[1])\n",
        "    lista.append(ap)\n",
        "  elif 'print' in i:\n",
        "    print(lista)\n",
        "  elif 'sort' in i:\n",
        "    lista.sort()\n",
        "  elif 'reverse' in i:\n",
        "    lista.reverse()\n",
        "  elif 'pop' in i:\n",
        "    lista.pop()\n",
        "  elif 'remove' in i:\n",
        "    b=int(i[1])\n",
        "    lista.remove(b)"
      ],
      "execution_count": null,
      "outputs": []
    }
  ]
}